{
 "cells": [
  {
   "cell_type": "markdown",
   "id": "18397610",
   "metadata": {},
   "source": [
    "# <font color='darkblue'>__Data Engineering__</font>\n",
    "## <font color='darkblue'>__Blockchain__</font>"
   ]
  },
  {
   "cell_type": "markdown",
   "id": "476cb7c7",
   "metadata": {},
   "source": [
    "### <font color='darkblue'>__Class & Functions (All in One)__</font>"
   ]
  },
  {
   "cell_type": "code",
   "execution_count": 7,
   "id": "2486d78f",
   "metadata": {},
   "outputs": [
    {
     "name": "stdout",
     "output_type": "stream",
     "text": [
      "Genesis block:  [{'index': 1, 'timestamp': 1625170474.6869962, 'transactions': [], 'proof': 100, 'previous_hash': 'The Times 03/Jan/2009 Chancellor on brink of second bailout for banks.'}, {'index': 2, 'timestamp': 1625170474.6869962, 'transactions': [{'sender': 'Satoshi', 'recipient': 'Mike', 'amount': '5 BTC'}, {'sender': 'Mike', 'recipient': 'Satoshi', 'amount': '1 BTC'}, {'sender': 'Satoshi', 'recipient': 'Hal Finney', 'amount': '5 BTC'}], 'proof': 12345, 'previous_hash': '3d22b3c340a8bfc5743ce7323312be5e596aba32d0afe74830b3b34e369d21c9'}, {'index': 3, 'timestamp': 1625170474.6869962, 'transactions': [{'sender': 'Mike', 'recipient': 'Alice', 'amount': '1 BTC'}, {'sender': 'Alice', 'recipient': 'Bob', 'amount': '0.5 BTC'}, {'sender': 'Bob', 'recipient': 'Mike', 'amount': '0.5 BTC'}], 'proof': 6789, 'previous_hash': 'a0c58a0760ea81b1470a0558bd05ed14a4cac79eae7246b9afb93c48cc0e6ce1'}]\n"
     ]
    }
   ],
   "source": [
    "import hashlib\n",
    "import json\n",
    "from time import time\n",
    "\n",
    "class Blockchain(object):\n",
    "    def __init__(self):\n",
    "        self.chain = []\n",
    "        self.pending_transactions = []\n",
    "\n",
    "        self.new_block(previous_hash=\"The Times 03/Jan/2009 Chancellor on brink of second bailout for banks.\", proof=100)\n",
    "\n",
    "# Create a new block listing key/value pairs of block information in a JSON object. \n",
    "# Reset the list of pending transactions & append the newest block to the chain.\n",
    "    def new_block(self, proof, previous_hash=None):\n",
    "        block = {\n",
    "            'index': len(self.chain) + 1,\n",
    "            'timestamp': time(),\n",
    "            'transactions': self.pending_transactions,\n",
    "            'proof': proof,\n",
    "            'previous_hash': previous_hash or self.hash(self.chain[-1]),\n",
    "        }\n",
    "        self.pending_transactions = []\n",
    "        self.chain.append(block)\n",
    "\n",
    "        return block\n",
    "\n",
    "#Search the blockchain for the most recent block.\n",
    "    @property\n",
    "    def last_block(self):\n",
    " \n",
    "        return self.chain[-1]\n",
    "\n",
    "# Add a transaction with relevant info to the 'blockpool' - list of pending tx's. \n",
    "\n",
    "    def new_transaction(self, sender, recipient, amount):\n",
    "        transaction = {\n",
    "            'sender': sender,\n",
    "            'recipient': recipient,\n",
    "            'amount': amount\n",
    "        }\n",
    "        self.pending_transactions.append(transaction)\n",
    "        return self.last_block['index'] + 1\n",
    "\n",
    "# Receive one block. Turn it into a string, turn that into Unicode (for hashing). \n",
    "# Hash with SHA256 encryption, then translate the Unicode into a hexidecimal string.\n",
    "\n",
    "    def hash(self, block):\n",
    "        string_object = json.dumps(block, sort_keys=True)\n",
    "        block_string = string_object.encode()\n",
    "\n",
    "        raw_hash = hashlib.sha256(block_string)\n",
    "        hex_hash = raw_hash.hexdigest()\n",
    "\n",
    "        return hex_hash\n",
    "\n",
    "\n",
    "blockchain = Blockchain()\n",
    "t1 = blockchain.new_transaction(\"Satoshi\", \"Mike\", '5 BTC')\n",
    "t2 = blockchain.new_transaction(\"Mike\", \"Satoshi\", '1 BTC')\n",
    "t3 = blockchain.new_transaction(\"Satoshi\", \"Hal Finney\", '5 BTC')\n",
    "blockchain.new_block(12345)\n",
    "\n",
    "t4 = blockchain.new_transaction(\"Mike\", \"Alice\", '1 BTC')\n",
    "t5 = blockchain.new_transaction(\"Alice\", \"Bob\", '0.5 BTC')\n",
    "t6 = blockchain.new_transaction(\"Bob\", \"Mike\", '0.5 BTC')\n",
    "blockchain.new_block(6789)\n",
    "\n",
    "print(\"Genesis block: \", blockchain.chain)"
   ]
  },
  {
   "cell_type": "markdown",
   "id": "9f892063",
   "metadata": {},
   "source": [
    "#  \n",
    "### <font color='darkblue'>__Including file import for automation__</font>"
   ]
  },
  {
   "cell_type": "code",
   "execution_count": 8,
   "id": "8462bcae",
   "metadata": {},
   "outputs": [
    {
     "name": "stdout",
     "output_type": "stream",
     "text": [
      "Line1: 'Satoshi', 'Mike', 'BTC'\n"
     ]
    }
   ],
   "source": [
    "# Using readlines()\n",
    "file1 = open('file_blockchain.txt', 'r')\n",
    "Lines = file1.readlines()\n",
    " \n",
    "count = 0\n",
    "# Strips the newline character\n",
    "for line in Lines:\n",
    "    count += 1\n",
    "    print(\"Line{}: {}\".format(count, line.strip()))"
   ]
  },
  {
   "cell_type": "code",
   "execution_count": 9,
   "id": "a79f054e",
   "metadata": {},
   "outputs": [
    {
     "name": "stdout",
     "output_type": "stream",
     "text": [
      "'Satoshi',\n",
      "'Mike',\n",
      "'BTC'\n"
     ]
    }
   ],
   "source": [
    "# reading each word\n",
    "sender1 = 1\n",
    "recipient2 = 1\n",
    "amount3 = 1\n",
    "i = 1\n",
    "for word in line.split():\n",
    "   \n",
    "    # displaying the words         \n",
    "    print(word)\n",
    "    \n",
    "    if i == 1:\n",
    "        sender1 = word\n",
    "    \n",
    "    if i == 2:\n",
    "        recipient2 = word\n",
    "        \n",
    "    if i == 3:\n",
    "        amount3 = word\n",
    "\n",
    "    i = i + 1\n",
    "        \n",
    "    #word+i=word\n",
    "    #word+i"
   ]
  },
  {
   "cell_type": "code",
   "execution_count": 10,
   "id": "037421cd",
   "metadata": {},
   "outputs": [
    {
     "data": {
      "text/plain": [
       "\"'BTC'\""
      ]
     },
     "execution_count": 10,
     "metadata": {},
     "output_type": "execute_result"
    }
   ],
   "source": [
    "amount3"
   ]
  },
  {
   "cell_type": "code",
   "execution_count": 11,
   "id": "973c2610",
   "metadata": {},
   "outputs": [],
   "source": [
    "t1 = blockchain.new_transaction(sender1, recipient2, amount3)"
   ]
  },
  {
   "cell_type": "code",
   "execution_count": 12,
   "id": "49ef0c0d",
   "metadata": {},
   "outputs": [
    {
     "data": {
      "text/plain": [
       "{'index': 4,\n",
       " 'timestamp': 1625170478.5542471,\n",
       " 'transactions': [{'sender': \"'Satoshi',\",\n",
       "   'recipient': \"'Mike',\",\n",
       "   'amount': \"'BTC'\"}],\n",
       " 'proof': 12345,\n",
       " 'previous_hash': '9451027096f4052707b87cc9c921226abf6195efd31f454b76f54fc773648e0a'}"
      ]
     },
     "execution_count": 12,
     "metadata": {},
     "output_type": "execute_result"
    }
   ],
   "source": [
    "blockchain.new_block(12345)"
   ]
  },
  {
   "cell_type": "code",
   "execution_count": 13,
   "id": "7b10c569",
   "metadata": {},
   "outputs": [
    {
     "name": "stdout",
     "output_type": "stream",
     "text": [
      "Genesis block:  [{'index': 1, 'timestamp': 1625170474.6869962, 'transactions': [], 'proof': 100, 'previous_hash': 'The Times 03/Jan/2009 Chancellor on brink of second bailout for banks.'}, {'index': 2, 'timestamp': 1625170474.6869962, 'transactions': [{'sender': 'Satoshi', 'recipient': 'Mike', 'amount': '5 BTC'}, {'sender': 'Mike', 'recipient': 'Satoshi', 'amount': '1 BTC'}, {'sender': 'Satoshi', 'recipient': 'Hal Finney', 'amount': '5 BTC'}], 'proof': 12345, 'previous_hash': '3d22b3c340a8bfc5743ce7323312be5e596aba32d0afe74830b3b34e369d21c9'}, {'index': 3, 'timestamp': 1625170474.6869962, 'transactions': [{'sender': 'Mike', 'recipient': 'Alice', 'amount': '1 BTC'}, {'sender': 'Alice', 'recipient': 'Bob', 'amount': '0.5 BTC'}, {'sender': 'Bob', 'recipient': 'Mike', 'amount': '0.5 BTC'}], 'proof': 6789, 'previous_hash': 'a0c58a0760ea81b1470a0558bd05ed14a4cac79eae7246b9afb93c48cc0e6ce1'}, {'index': 4, 'timestamp': 1625170478.5542471, 'transactions': [{'sender': \"'Satoshi',\", 'recipient': \"'Mike',\", 'amount': \"'BTC'\"}], 'proof': 12345, 'previous_hash': '9451027096f4052707b87cc9c921226abf6195efd31f454b76f54fc773648e0a'}]\n"
     ]
    }
   ],
   "source": [
    "print(\"Genesis block: \", blockchain.chain)"
   ]
  }
 ],
 "metadata": {
  "kernelspec": {
   "display_name": "Python 3 (ipykernel)",
   "language": "python",
   "name": "python3"
  },
  "language_info": {
   "codemirror_mode": {
    "name": "ipython",
    "version": 3
   },
   "file_extension": ".py",
   "mimetype": "text/x-python",
   "name": "python",
   "nbconvert_exporter": "python",
   "pygments_lexer": "ipython3",
   "version": "3.9.12"
  }
 },
 "nbformat": 4,
 "nbformat_minor": 5
}
